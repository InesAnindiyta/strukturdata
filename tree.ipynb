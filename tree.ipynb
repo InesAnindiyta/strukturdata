{
  "nbformat": 4,
  "nbformat_minor": 0,
  "metadata": {
    "colab": {
      "provenance": [],
      "authorship_tag": "ABX9TyO6sWhABwbB5Q+yH+jHYVYJ",
      "include_colab_link": true
    },
    "kernelspec": {
      "name": "python3",
      "display_name": "Python 3"
    },
    "language_info": {
      "name": "python"
    }
  },
  "cells": [
    {
      "cell_type": "markdown",
      "metadata": {
        "id": "view-in-github",
        "colab_type": "text"
      },
      "source": [
        "<a href=\"https://colab.research.google.com/github/InesAnindiyta/strukturdata/blob/main/tree.ipynb\" target=\"_parent\"><img src=\"https://colab.research.google.com/assets/colab-badge.svg\" alt=\"Open In Colab\"/></a>"
      ]
    },
    {
      "cell_type": "markdown",
      "source": [
        "binary tree"
      ],
      "metadata": {
        "id": "rGCIsHmQcygo"
      }
    },
    {
      "cell_type": "code",
      "source": [
        "class Node:\n",
        "  def __init__(self, data):\n",
        "    self.data = data\n",
        "    self.left = None\n",
        "    self.right = None\n",
        "\n",
        "root = Node(1)\n",
        "root.left = Node(2)\n",
        "root.right = Node(3)\n",
        "root.left.left = Node(4)\n",
        "root.left.right = Node(5)\n",
        "\n",
        "def inorder(node):\n",
        "  if node:\n",
        "    inorder(node.left)\n",
        "    print(node.data, end='')\n",
        "    inorder(node.right)\n",
        "\n",
        "print(\"Hasil transversal dari binary tree:\")\n",
        "inorder(root)"
      ],
      "metadata": {
        "colab": {
          "base_uri": "https://localhost:8080/"
        },
        "id": "eyv8iVF5cd7g",
        "outputId": "5477c72e-bfeb-49c6-b0e6-04fce19a4f56"
      },
      "execution_count": null,
      "outputs": [
        {
          "output_type": "stream",
          "name": "stdout",
          "text": [
            "Hasil transversal dari binary tree:\n",
            "42513"
          ]
        }
      ]
    },
    {
      "cell_type": "markdown",
      "source": [
        "binary search tree"
      ],
      "metadata": {
        "id": "3YtRDUpCfXyR"
      }
    },
    {
      "cell_type": "code",
      "source": [
        "class Node:\n",
        "  def __init__(self, data):\n",
        "    self.data = data\n",
        "    self.left = None\n",
        "    self.right = None\n",
        "\n",
        "class BinarySearchTree:\n",
        "  def __init__(self):\n",
        "    self.root = None\n",
        "  def insert(self, root, data):\n",
        "    if root is None:\n",
        "      return Node(data)\n",
        "    if data < root.data:\n",
        "      root.left = self.insert(root.left, data)\n",
        "    else:\n",
        "      root.right = self.insert(root.right, data)\n",
        "    return root\n",
        "\n",
        "bst = BinarySearchTree()\n",
        "root = None\n",
        "data_list = [50, 30, 70, 20, 40, 60, 80]\n",
        "for value in data_list:\n",
        "  root = bst.insert(root, value)"
      ],
      "metadata": {
        "id": "Ni-7BHx0gzsJ"
      },
      "execution_count": null,
      "outputs": []
    },
    {
      "cell_type": "markdown",
      "source": [
        "transversal pada BST"
      ],
      "metadata": {
        "id": "1h3er1KFhWz4"
      }
    },
    {
      "cell_type": "code",
      "source": [
        "def inorder(node):\n",
        "  if node:\n",
        "    inorder(node.left)\n",
        "    print(node.data, end=' ')\n",
        "    inorder(node.right)\n",
        "\n",
        "def preoder(node):\n",
        "  if node:\n",
        "    print(node.data, end=' ')\n",
        "    preoder(node.left)\n",
        "    preoder(node.right)\n",
        "\n",
        "def postorder(node):\n",
        "  if node:\n",
        "    postorder(node.left)\n",
        "    postorder(node.right)\n",
        "    print(node.data, end=' ')\n",
        "\n",
        "print(\"Inorder Transversal:\")\n",
        "inorder(root)\n",
        "print(\"\\nPreorder Transversal:\")\n",
        "preoder(root)\n",
        "print(\"\\nPostorder Transversal:\")\n",
        "postorder(root)"
      ],
      "metadata": {
        "colab": {
          "base_uri": "https://localhost:8080/"
        },
        "id": "wirMhMxbhWew",
        "outputId": "1f895017-4092-4248-d5a4-87a81f223e7a"
      },
      "execution_count": null,
      "outputs": [
        {
          "output_type": "stream",
          "name": "stdout",
          "text": [
            "Inorder Transversal:\n",
            "20 30 40 50 60 70 80 \n",
            "Preorder Transversal:\n",
            "50 30 20 40 70 60 80 \n",
            "Postorder Transversal:\n",
            "20 40 30 60 80 70 50 "
          ]
        }
      ]
    },
    {
      "cell_type": "markdown",
      "source": [
        "pencarian nilai dalam BST"
      ],
      "metadata": {
        "id": "PyGdDwMOjbwR"
      }
    },
    {
      "cell_type": "code",
      "source": [
        "def search(node, key):\n",
        "  if node is None or node.data == key:\n",
        "    return node\n",
        "  if key < node.data:\n",
        "    return search(node.left, key)\n",
        "  return search(node.right, key)\n",
        "\n",
        "key = 60\n",
        "result = search(root, key)\n",
        "if result:\n",
        "  print(f\"{key} ditemukan dalam tree.\")\n",
        "else:\n",
        "  print(f\"{key} tidak ditemukan.\")\n",
        "\n",
        "key = 25\n",
        "result = search(root, key)\n",
        "if result:\n",
        "  print(f\"{key} ditemukan dalam tree.\")\n",
        "else:\n",
        "  print(f\"{key} tidak ditemukan.\")"
      ],
      "metadata": {
        "colab": {
          "base_uri": "https://localhost:8080/"
        },
        "id": "NrJNjbSmjcSY",
        "outputId": "263fd399-e892-454c-fdea-1836e88d8bd0"
      },
      "execution_count": null,
      "outputs": [
        {
          "output_type": "stream",
          "name": "stdout",
          "text": [
            "60 ditemukan dalam tree.\n",
            "25 tidak ditemukan.\n"
          ]
        }
      ]
    },
    {
      "cell_type": "markdown",
      "source": [
        "tugas 1"
      ],
      "metadata": {
        "id": "0M2ycZNpXznO"
      }
    },
    {
      "cell_type": "code",
      "source": [
        "class Node:\n",
        "    def __init__(self, data):\n",
        "        self.data = data\n",
        "        self.left = None\n",
        "        self.right = None\n",
        "\n",
        "nama = \"Ines Anindiyta\"\n",
        "npm = \"2440506065\"\n",
        "tgl = 6\n",
        "bln = 2\n",
        "\n",
        "root = Node(len(nama.replace(\" \", \"\")))\n",
        "root.left = Node(sum(1 for c in nama.lower() if c in \"aiueo\"))\n",
        "root.right = Node(int(npm[-2:]))\n",
        "\n",
        "root.left.left = Node(tgl)\n",
        "root.right.right = Node(bln)\n",
        "\n",
        "def inorder(node):\n",
        "    if node:\n",
        "        inorder(node.left)\n",
        "        print(node.data, end=' ')\n",
        "        inorder(node.right)\n",
        "\n",
        "print(\"Inorder traversal struktur tree identitas saya:\")\n",
        "inorder(root)\n",
        "print()"
      ],
      "metadata": {
        "colab": {
          "base_uri": "https://localhost:8080/"
        },
        "id": "VjcinzkLX1fd",
        "outputId": "b947d087-b2d9-4101-e904-67f1443f6585"
      },
      "execution_count": 1,
      "outputs": [
        {
          "output_type": "stream",
          "name": "stdout",
          "text": [
            "Inorder traversal struktur tree identitas saya:\n",
            "6 6 13 65 2 \n"
          ]
        }
      ]
    },
    {
      "cell_type": "markdown",
      "source": [
        "tugas 2"
      ],
      "metadata": {
        "id": "-M8RapxtYVYZ"
      }
    },
    {
      "cell_type": "code",
      "source": [
        "class Node:\n",
        "    def __init__(self, data):\n",
        "        self.data = data\n",
        "        self.left = None\n",
        "        self.right = None\n",
        "\n",
        "class BinarySearchTree:\n",
        "    def __init__(self):\n",
        "        self.root = None\n",
        "\n",
        "    def insert(self, root, data):\n",
        "        if root is None:\n",
        "            return Node(data)\n",
        "        if data < root.data:\n",
        "            root.left = self.insert(root.left, data)\n",
        "        else:\n",
        "            root.right = self.insert(root.right, data)\n",
        "        return root\n",
        "\n",
        "    def inorder(self, node):\n",
        "        if node:\n",
        "            self.inorder(node.left)\n",
        "            print(node.data, end=' ')\n",
        "            self.inorder(node.right)\n",
        "\n",
        "    def preorder(self, node):\n",
        "        if node:\n",
        "            print(node.data, end=' ')\n",
        "            self.preorder(node.left)\n",
        "            self.preorder(node.right)\n",
        "\n",
        "    def postorder(self, node):\n",
        "        if node:\n",
        "            self.postorder(node.left)\n",
        "            self.postorder(node.right)\n",
        "            print(node.data, end=' ')\n",
        "\n",
        "    def search(self, node, key):\n",
        "        if node is None:\n",
        "            return False\n",
        "        if key == node.data:\n",
        "            return True\n",
        "        if key < node.data:\n",
        "            return self.search(node.left, key)\n",
        "        else:\n",
        "            return self.search(node.right, key)\n",
        "\n",
        "npm = \"2440506065\"\n",
        "tgl = 6\n",
        "bln = 2\n",
        "nama_depan = \"ines\"\n",
        "\n",
        "data_list = [\n",
        "    int(npm[-3:]),\n",
        "    tgl,\n",
        "    bln,\n",
        "    ord(nama_depan[0]),\n",
        "    ord(nama_depan[1]),\n",
        "    99,\n",
        "    42\n",
        "]\n",
        "\n",
        "bst = BinarySearchTree()\n",
        "root = None\n",
        "for val in data_list:\n",
        "    root = bst.insert(root, val)\n",
        "\n",
        "print(\"Inorder Traversal:\")\n",
        "bst.inorder(root)\n",
        "print(\"\\nPreorder Traversal:\")\n",
        "bst.preorder(root)\n",
        "print(\"\\nPostorder Traversal:\")\n",
        "bst.postorder(root)\n",
        "print()\n",
        "\n",
        "\n",
        "nilai_dicari = int(npm[-2:])\n",
        "nilai_fake = 90\n",
        "print(f\"\\nCari {nilai_dicari}:\", \"ditemukan\" if bst.search(root, nilai_dicari) else \"tidak ditemukan\")\n",
        "print(f\"Cari {nilai_fake}:\", \"ditemukan\" if bst.search(root, nilai_fake) else \"tidak ditemukan\")"
      ],
      "metadata": {
        "colab": {
          "base_uri": "https://localhost:8080/"
        },
        "id": "8CP2wYkDYXIV",
        "outputId": "18950ecc-f919-4125-fef9-a493f9411582"
      },
      "execution_count": 3,
      "outputs": [
        {
          "output_type": "stream",
          "name": "stdout",
          "text": [
            "Inorder Traversal:\n",
            "2 6 42 65 99 105 110 \n",
            "Preorder Traversal:\n",
            "65 6 2 42 105 99 110 \n",
            "Postorder Traversal:\n",
            "2 42 6 99 110 105 65 \n",
            "\n",
            "Cari 65: ditemukan\n",
            "Cari 90: tidak ditemukan\n"
          ]
        }
      ]
    }
  ]
}