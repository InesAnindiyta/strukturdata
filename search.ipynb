{
  "nbformat": 4,
  "nbformat_minor": 0,
  "metadata": {
    "colab": {
      "provenance": [],
      "authorship_tag": "ABX9TyMBrmonZvXAMcRfCY6yVhQV",
      "include_colab_link": true
    },
    "kernelspec": {
      "name": "python3",
      "display_name": "Python 3"
    },
    "language_info": {
      "name": "python"
    }
  },
  "cells": [
    {
      "cell_type": "markdown",
      "metadata": {
        "id": "view-in-github",
        "colab_type": "text"
      },
      "source": [
        "<a href=\"https://colab.research.google.com/github/InesAnindiyta/strukturdata/blob/main/search.ipynb\" target=\"_parent\"><img src=\"https://colab.research.google.com/assets/colab-badge.svg\" alt=\"Open In Colab\"/></a>"
      ]
    },
    {
      "cell_type": "markdown",
      "source": [
        "linier search"
      ],
      "metadata": {
        "id": "evWwOykohDs-"
      }
    },
    {
      "cell_type": "code",
      "source": [
        "def liniear_search(arr, target):\n",
        "  for i in range(len(arr)):\n",
        "    if arr[i] == target:\n",
        "      return i\n",
        "  return -1\n",
        "\n",
        "arr = [68, 69, 64, 67, 65, 66]\n",
        "target = int(input(\"masukkan npm anda: \"))\n",
        "\n",
        "result = liniear_search(arr, target)\n",
        "\n",
        "if result != -1:\n",
        "  print(\"npm ditemukan pada indeks\", result)\n",
        "else:\n",
        "  print(\"npm tidak ditemukan\")"
      ],
      "metadata": {
        "colab": {
          "base_uri": "https://localhost:8080/"
        },
        "id": "HUaFEAQmGreq",
        "outputId": "c5937639-623b-4721-ea31-87a0249491db"
      },
      "execution_count": null,
      "outputs": [
        {
          "output_type": "stream",
          "name": "stdout",
          "text": [
            "masukkan npm anda: 65\n",
            "npm ditemukan pada indeks 4\n"
          ]
        }
      ]
    },
    {
      "cell_type": "markdown",
      "source": [
        "binary search"
      ],
      "metadata": {
        "id": "zePD93huhI5K"
      }
    },
    {
      "cell_type": "code",
      "source": [
        "def binary_search(arr, target):\n",
        "  low = 0\n",
        "  high = len(arr) - 1\n",
        "\n",
        "  while low <= high:\n",
        "    mid = (low + high) // 2\n",
        "    if arr[mid] == target:\n",
        "      return mid\n",
        "    elif arr[mid] < target:\n",
        "      low = mid + 1\n",
        "    else:\n",
        "      high = mid - 1\n",
        "  return -1\n",
        "\n",
        "arr = [4, 5, 6, 7, 8, 9, 10]\n",
        "target = int(input(\"masukkan tanggal lahir anda: \"))\n",
        "\n",
        "result = binary_search(arr, target)\n",
        "\n",
        "if result != -1:\n",
        "  print(\"tanggal lahir ditemukan pada indeks\", result)\n",
        "else:\n",
        "  print(\"tanggal lahir tidak ditemukan\")"
      ],
      "metadata": {
        "colab": {
          "base_uri": "https://localhost:8080/"
        },
        "id": "dytaDTcOJ-Hq",
        "outputId": "04e1f449-3307-49b0-f3e2-086ad94e3e49"
      },
      "execution_count": null,
      "outputs": [
        {
          "output_type": "stream",
          "name": "stdout",
          "text": [
            "masukkan tanggal lahir anda: 6\n",
            "tanggal lahir ditemukan pada indeks 2\n"
          ]
        }
      ]
    },
    {
      "cell_type": "markdown",
      "source": [
        "jump search"
      ],
      "metadata": {
        "id": "ZZ-r9Ef-hHie"
      }
    },
    {
      "cell_type": "code",
      "source": [
        "import math\n",
        "\n",
        "def jump_search(arr, target):\n",
        "  n = len(arr)\n",
        "  step = int(math.sqrt(n))\n",
        "  prev = 0\n",
        "\n",
        "  while arr[min(step, n) - 1] < target:\n",
        "    prev = step\n",
        "    step += int(math.sqrt(n))\n",
        "    if prev >= n:\n",
        "      return -1\n",
        "\n",
        "  for i in range(prev, min(step, n)):\n",
        "    if arr[i] == target:\n",
        "      return i\n",
        "  return -1\n",
        "\n",
        "arr = [\"ines\", \"jeni\", \"kaila\", \"laila\", \"meisya\", \"naila\"]\n",
        "target = input(\"masukkan nama anda: \")\n",
        "\n",
        "result = jump_search(arr, target)\n",
        "\n",
        "if result != -1:\n",
        "  print(\"nama ditemukan pada indeks\", result)\n",
        "else:\n",
        "  print(\"nama tidak ditemukan\")"
      ],
      "metadata": {
        "colab": {
          "base_uri": "https://localhost:8080/"
        },
        "id": "vlPy8CVLMoBS",
        "outputId": "9141d2b0-8503-4e38-d85f-54f441deaae7"
      },
      "execution_count": null,
      "outputs": [
        {
          "output_type": "stream",
          "name": "stdout",
          "text": [
            "masukkan nama anda: ines\n",
            "nama ditemukan pada indeks 0\n"
          ]
        }
      ]
    },
    {
      "cell_type": "code",
      "source": [
        "import random\n",
        "angka = random.sample(range(1, 1001), 100)\n",
        "angka = sorted()\n",
        "target = angka[len(angka) // 2]\n",
        "\n",
        "def liniear_search(angka, target):\n",
        "  Counter = 0\n",
        "  for index in range(len(angka)):\n",
        "    Counter += 1\n",
        "    if angka[index] == target:\n",
        "      return index, Counter\n",
        "  return -1, Counter"
      ],
      "metadata": {
        "id": "05ha6g1QUuax"
      },
      "execution_count": null,
      "outputs": []
    },
    {
      "cell_type": "markdown",
      "source": [
        "tugas"
      ],
      "metadata": {
        "id": "I8P9Y838L7co"
      }
    },
    {
      "cell_type": "code",
      "source": [
        "import random\n",
        "import math\n",
        "\n",
        "def generate_sorted_array():\n",
        "    return sorted(random.sample(range(1, 1001), 100))\n",
        "\n",
        "def linear_search(arr, target):\n",
        "    comparisons = 0\n",
        "    for i in range(len(arr)):\n",
        "        comparisons += 1\n",
        "        if arr[i] == target:\n",
        "            return i, comparisons\n",
        "    return -1, comparisons\n",
        "\n",
        "def binary_search(arr, target):\n",
        "    left, right = 0, len(arr) - 1\n",
        "    comparisons = 0\n",
        "\n",
        "    while left <= right:\n",
        "        mid = (left + right) // 2\n",
        "        comparisons += 1\n",
        "        if arr[mid] == target:\n",
        "            return mid, comparisons\n",
        "        elif arr[mid] < target:\n",
        "            left = mid + 1\n",
        "        else:\n",
        "            right = mid - 1\n",
        "\n",
        "    return -1, comparisons\n",
        "\n",
        "def jump_search(arr, target):\n",
        "    n = len(arr)\n",
        "    step = int(math.sqrt(n))\n",
        "    prev = 0\n",
        "    comparisons = 0\n",
        "\n",
        "    while prev < n and arr[min(step, n)-1] < target:\n",
        "        comparisons += 1\n",
        "        prev = step\n",
        "        step += int(math.sqrt(n))\n",
        "        if prev >= n:\n",
        "            return -1, comparisons\n",
        "\n",
        "    for i in range(prev, min(step, n)):\n",
        "        comparisons += 1\n",
        "        if arr[i] == target:\n",
        "            return i, comparisons\n",
        "\n",
        "    return -1, comparisons\n",
        "\n",
        "data = generate_sorted_array()\n",
        "target = data[len(data) // 2]\n",
        "\n",
        "lin_result, lin_comp = linear_search(data, target)\n",
        "bin_result, bin_comp = binary_search(data, target)\n",
        "jmp_result, jmp_comp = jump_search(data, target)\n",
        "\n",
        "print(\"Hasil pencarian:\")\n",
        "print(f\"Linear Search -> Index: {lin_result}, Perbandingan: {lin_comp}\")\n",
        "print(f\"Binary Search -> Index: {bin_result}, Perbandingan: {bin_comp}\")\n",
        "print(f\"Jump Search -> Index: {jmp_result}, Perbandingan: {jmp_comp}\")"
      ],
      "metadata": {
        "colab": {
          "base_uri": "https://localhost:8080/"
        },
        "id": "yk9GobSIL8u9",
        "outputId": "3e8d517c-9873-48e6-cb21-af231c8daf39"
      },
      "execution_count": null,
      "outputs": [
        {
          "output_type": "stream",
          "name": "stdout",
          "text": [
            "Hasil pencarian:\n",
            "Linear Search -> Index: 50, Perbandingan: 51\n",
            "Binary Search -> Index: 50, Perbandingan: 6\n",
            "Jump Search -> Index: 50, Perbandingan: 6\n"
          ]
        }
      ]
    }
  ]
}