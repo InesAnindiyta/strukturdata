{
  "nbformat": 4,
  "nbformat_minor": 0,
  "metadata": {
    "colab": {
      "provenance": [],
      "authorship_tag": "ABX9TyMBjxH+POrbvJlvSjXY8+Zo",
      "include_colab_link": true
    },
    "kernelspec": {
      "name": "python3",
      "display_name": "Python 3"
    },
    "language_info": {
      "name": "python"
    }
  },
  "cells": [
    {
      "cell_type": "markdown",
      "metadata": {
        "id": "view-in-github",
        "colab_type": "text"
      },
      "source": [
        "<a href=\"https://colab.research.google.com/github/InesAnindiyta/strukturdata/blob/main/sorting.ipynb\" target=\"_parent\"><img src=\"https://colab.research.google.com/assets/colab-badge.svg\" alt=\"Open In Colab\"/></a>"
      ]
    },
    {
      "cell_type": "markdown",
      "source": [
        "bubble sort"
      ],
      "metadata": {
        "id": "i5pLV5BAL8x4"
      }
    },
    {
      "cell_type": "code",
      "source": [
        "def bubble_sort(arr):\n",
        "  n = len(arr)\n",
        "  for i in range(n-1):\n",
        "    for j in range(n-i-1):\n",
        "      if arr[j] > arr[j+1]:\n",
        "        arr[j], arr[j+1] = arr[j+1], arr[j]\n",
        "  return arr\n",
        "\n",
        "data = [64, 34, 25, 12, 22, 11, 90]\n",
        "sorted_data = bubble_sort(data.copy())\n",
        "print(\"Data sebelum disorting:\", data)\n",
        "print(\"Data setelah bubble sort:\", sorted_data)"
      ],
      "metadata": {
        "colab": {
          "base_uri": "https://localhost:8080/"
        },
        "id": "VTyzcBP5NE5H",
        "outputId": "8717dd16-9399-49d4-f7fe-ee3b338a2741"
      },
      "execution_count": null,
      "outputs": [
        {
          "output_type": "stream",
          "name": "stdout",
          "text": [
            "Data sebelum disorting: [64, 34, 25, 12, 22, 11, 90]\n",
            "Data setelah bubble sort: [11, 12, 22, 25, 34, 64, 90]\n"
          ]
        }
      ]
    },
    {
      "cell_type": "markdown",
      "source": [
        "selection sort"
      ],
      "metadata": {
        "id": "Xm3-EhG1OIEC"
      }
    },
    {
      "cell_type": "code",
      "source": [
        "def selection_sort(arr):\n",
        "  n = len(arr)\n",
        "  for i in range(n-1):\n",
        "    min_index = i\n",
        "    for j in range(i+1, n):\n",
        "      if arr[j] < arr[min_index]:\n",
        "        min_index = j\n",
        "    arr[i], arr[min_index] = arr[min_index], arr[i]\n",
        "  return arr\n",
        "\n",
        "data = [64, 25, 12, 22, 11]\n",
        "sorted_data = selection_sort(data.copy())\n",
        "print(\"Data sebelum disorting:\", data)\n",
        "print(\"Data setelah selection sort:\", sorted_data)"
      ],
      "metadata": {
        "colab": {
          "base_uri": "https://localhost:8080/"
        },
        "id": "ql7s_sZhOLNv",
        "outputId": "4ac8c93f-1a59-4d7d-8b09-cbf33750c1c9"
      },
      "execution_count": null,
      "outputs": [
        {
          "output_type": "stream",
          "name": "stdout",
          "text": [
            "Data sebelum disorting: [64, 25, 12, 22, 11]\n",
            "Data setelah selection sort: [11, 12, 22, 25, 64]\n"
          ]
        }
      ]
    },
    {
      "cell_type": "markdown",
      "source": [
        "insertion sort"
      ],
      "metadata": {
        "id": "zUiOgXvoOqdQ"
      }
    },
    {
      "cell_type": "code",
      "source": [
        "def insertion_sort(arr):\n",
        "  n = len(arr)\n",
        "  for i in range(1, n):\n",
        "    key = arr[i]\n",
        "    j = i - 1\n",
        "    while j >= 0 and arr[j] > key:\n",
        "      arr[j+1] = arr[j]\n",
        "      j -= 1\n",
        "    arr[j+1] = key\n",
        "  return arr\n",
        "\n",
        "data = [12, 11, 13, 5, 6]\n",
        "sorted_data = insertion_sort(data.copy())\n",
        "print(\"Data sebelum disorting:\", data)\n",
        "print(\"Data setelah insertion sort:\", sorted_data)"
      ],
      "metadata": {
        "colab": {
          "base_uri": "https://localhost:8080/"
        },
        "id": "kvrbkMuTOsoA",
        "outputId": "047d45e2-a6b9-4005-8cce-c48ddf70335c"
      },
      "execution_count": null,
      "outputs": [
        {
          "output_type": "stream",
          "name": "stdout",
          "text": [
            "Data sebelum disorting: [12, 11, 13, 5, 6]\n",
            "Data setelah insertion sort: [5, 6, 11, 12, 13]\n"
          ]
        }
      ]
    },
    {
      "cell_type": "markdown",
      "source": [
        "merge sort"
      ],
      "metadata": {
        "id": "UohhBR6hPCK9"
      }
    },
    {
      "cell_type": "code",
      "source": [
        "def merge_sort(arr):\n",
        "  if len(arr) > 1:\n",
        "    mid = len(arr) // 2\n",
        "    left_half = arr[:mid]\n",
        "    right_half = arr[mid:]\n",
        "    merge_sort(left_half)\n",
        "    merge_sort(right_half)\n",
        "    i = j = k = 0\n",
        "    while i < len(left_half) and j < len(right_half):\n",
        "      if left_half[i] < right_half[j]:\n",
        "        arr[k] = left_half[i]\n",
        "        i += 1\n",
        "      else:\n",
        "        arr[k] = right_half[j]\n",
        "        j += 1\n",
        "      k += 1\n",
        "    while i < len(left_half):\n",
        "      arr[k] = left_half[i]\n",
        "      i += 1\n",
        "      k += 1\n",
        "    while j < len(right_half):\n",
        "      arr[k] = right_half[j]\n",
        "      j += 1\n",
        "      k += 1\n",
        "  return arr\n",
        "\n",
        "data = [64, 25, 12, 22, 11]\n",
        "sorted_data = merge_sort(data.copy())\n",
        "print(\"Data sebelum disorting:\", data)\n",
        "print(\"Data setelah merge sort:\", sorted_data)"
      ],
      "metadata": {
        "colab": {
          "base_uri": "https://localhost:8080/"
        },
        "id": "Yw_9jhc6PFOV",
        "outputId": "980071d7-ff0c-44f4-af06-3baf4772b9fa"
      },
      "execution_count": null,
      "outputs": [
        {
          "output_type": "stream",
          "name": "stdout",
          "text": [
            "Data sebelum disorting: [64, 25, 12, 22, 11]\n",
            "Data setelah merge sort: [11, 12, 22, 25, 64]\n"
          ]
        }
      ]
    },
    {
      "cell_type": "markdown",
      "source": [
        "quick sort"
      ],
      "metadata": {
        "id": "AF4SiySKRTfV"
      }
    },
    {
      "cell_type": "code",
      "source": [
        "def quick_sort(arr):\n",
        "  if len(arr) <= 1:\n",
        "    return arr\n",
        "  pivot = arr[len(arr) // 2]\n",
        "  left = [x for x in arr if x < pivot]\n",
        "  middle = [x for x in arr if x == pivot]\n",
        "  right = [x for x in arr if x > pivot]\n",
        "  return quick_sort(left) + middle + quick_sort(right)\n",
        "\n",
        "data = [64, 25, 12, 22, 11]\n",
        "sorted_data = quick_sort(data.copy())\n",
        "print(\"Data sebelum disorting:\", data)\n",
        "print(\"Data setelah quick sort:\", sorted_data)"
      ],
      "metadata": {
        "colab": {
          "base_uri": "https://localhost:8080/"
        },
        "id": "-dnlUpYyS1k1",
        "outputId": "c5a9a8d4-1d06-4073-bccf-fb4488a16c67"
      },
      "execution_count": null,
      "outputs": [
        {
          "output_type": "stream",
          "name": "stdout",
          "text": [
            "Data sebelum disorting: [64, 25, 12, 22, 11]\n",
            "Data setelah quick sort: [11, 12, 22, 25, 64]\n"
          ]
        }
      ]
    },
    {
      "cell_type": "markdown",
      "source": [
        "tugas"
      ],
      "metadata": {
        "id": "8HE2OAga97Ho"
      }
    },
    {
      "cell_type": "code",
      "source": [
        "data = [\n",
        "    {\"judul\": \"Film Romance\", \"rating\": 8.5, \"jumlah_pemutaran\": 1500},\n",
        "    {\"judul\": \"Film Horor\", \"rating\": 9.0, \"jumlah_pemutaran\": 2000},\n",
        "    {\"judul\": \"Film Kartun\", \"rating\": 7.5, \"jumlah_pemutaran\": 2500},\n",
        "]\n",
        "def urutkan_rekomendasi(data, kriteria):\n",
        "    if kriteria == \"rating\":\n",
        "        return sorted(data, key=lambda x: x[\"rating\"], reverse=True)\n",
        "    elif kriteria == \"jumlah_pemutaran\":\n",
        "        return sorted(data, key=lambda x: x[\"jumlah_pemutaran\"], reverse=True)\n",
        "    else:\n",
        "        return \"Kriteria tidak valid\"\n",
        "\n",
        "rekomendasi_rating = urutkan_rekomendasi(data, \"rating\")\n",
        "print(\"Rekomendasi berdasarkan rating:\")\n",
        "for item in rekomendasi_rating:\n",
        "    print(item[\"judul\"], item[\"rating\"])\n",
        "\n",
        "rekomendasi_pemutaran = urutkan_rekomendasi(data, \"jumlah_pemutaran\")\n",
        "print(\"\\nRekomendasi berdasarkan jumlah pemutaran:\")\n",
        "for item in rekomendasi_pemutaran:\n",
        "    print(item[\"judul\"], item[\"jumlah_pemutaran\"])"
      ],
      "metadata": {
        "colab": {
          "base_uri": "https://localhost:8080/"
        },
        "id": "_xIlKP2398Vh",
        "outputId": "092febe0-0df5-40f9-b5f8-1a4ff4d35c27"
      },
      "execution_count": 2,
      "outputs": [
        {
          "output_type": "stream",
          "name": "stdout",
          "text": [
            "Rekomendasi berdasarkan rating:\n",
            "Film Horor 9.0\n",
            "Film Romance 8.5\n",
            "Film Kartun 7.5\n",
            "\n",
            "Rekomendasi berdasarkan jumlah pemutaran:\n",
            "Film Kartun 2500\n",
            "Film Horor 2000\n",
            "Film Romance 1500\n"
          ]
        }
      ]
    }
  ]
}