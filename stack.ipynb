{
  "nbformat": 4,
  "nbformat_minor": 0,
  "metadata": {
    "colab": {
      "provenance": [],
      "authorship_tag": "ABX9TyPtprtqvaP9VBvVLl1AmPhm",
      "include_colab_link": true
    },
    "kernelspec": {
      "name": "python3",
      "display_name": "Python 3"
    },
    "language_info": {
      "name": "python"
    }
  },
  "cells": [
    {
      "cell_type": "markdown",
      "metadata": {
        "id": "view-in-github",
        "colab_type": "text"
      },
      "source": [
        "<a href=\"https://colab.research.google.com/github/InesAnindiyta/strukturdata/blob/main/stack.ipynb\" target=\"_parent\"><img src=\"https://colab.research.google.com/assets/colab-badge.svg\" alt=\"Open In Colab\"/></a>"
      ]
    },
    {
      "cell_type": "code",
      "source": [
        "class TextEditor:\n",
        "    def __init__(self):\n",
        "      self.history =[]\n",
        "\n",
        "    def write(self, text):\n",
        "      self.history.append(text)\n",
        "\n",
        "    def undo(self):\n",
        "      if self.history:\n",
        "          return f\"undo: menghapus '{self.history.pop()}'\"\n",
        "      return \"tidak ada yang bisa di-undo\"\n",
        "\n",
        "#contoh penggunaan\n",
        "editor = TextEditor()\n",
        "editor.write(\"halo,ini teks pertama\")\n",
        "editor.write(\"ini teks kedua\")\n",
        "editor.write(\"ini teks ketiga\")\n",
        "\n",
        "print(editor.undo())\n",
        "print(editor.undo())\n",
        "print(editor.undo())"
      ],
      "metadata": {
        "colab": {
          "base_uri": "https://localhost:8080/"
        },
        "id": "O238_MfH4waP",
        "outputId": "3aefaddc-736d-4cf8-d264-5d4ecab1c580"
      },
      "execution_count": null,
      "outputs": [
        {
          "output_type": "stream",
          "name": "stdout",
          "text": [
            "undo: menghapus 'ini teks ketiga'\n",
            "undo: menghapus 'ini teks kedua'\n",
            "undo: menghapus 'halo,ini teks pertama'\n"
          ]
        }
      ]
    },
    {
      "cell_type": "markdown",
      "source": [
        "latihan 1"
      ],
      "metadata": {
        "id": "UgwypRscjS2L"
      }
    },
    {
      "cell_type": "code",
      "source": [
        "class UndoCalculator:\n",
        "  def __init__(self, value):\n",
        "    self.stack = [value]\n",
        "\n",
        "  def tambah(self, value):\n",
        "    self.stack.append(self.stack[-1] + value)\n",
        "\n",
        "  def kurang(self, value):\n",
        "    self.stack.append(self.stack[-1] - value)\n",
        "\n",
        "  def kali(self, value):\n",
        "    self.stack.append(self.stack[-1] * value)\n",
        "\n",
        "  def undo(self):\n",
        "    if self.stack:\n",
        "      return f\"Undo: Menghapus '{self.stack.pop()}'\"\n",
        "    else:\n",
        "      return \"Tidak ada yang dapat di-undo\"\n",
        "\n",
        "value = int(input(\"Masukkan dua digit terakhir NPM Anda: \"))\n",
        "kalkulator = UndoCalculator(value)\n",
        "\n",
        "kalkulator.tambah(50)\n",
        "print(\"Setelah tambah 50:\", kalkulator.stack[-1])\n",
        "\n",
        "kalkulator.kurang(20)\n",
        "print(\"Setelah kurang 20:\", kalkulator.stack[-1])\n",
        "\n",
        "kalkulator.kali(4)\n",
        "print(\"Setelah kali 4:\", kalkulator.stack[-1])\n",
        "\n",
        "print(kalkulator.undo())\n",
        "print(kalkulator.undo())"
      ],
      "metadata": {
        "colab": {
          "base_uri": "https://localhost:8080/"
        },
        "id": "84pVwjh7jU7u",
        "outputId": "3e05751b-5732-4c2a-964a-0410bd0bc058"
      },
      "execution_count": 16,
      "outputs": [
        {
          "output_type": "stream",
          "name": "stdout",
          "text": [
            "Masukkan dua digit terakhir NPM Anda: 65\n",
            "Setelah tambah 50: 115\n",
            "Setelah kurang 20: 95\n",
            "Setelah kali 4: 380\n",
            "Undo: Menghapus '380'\n",
            "Undo: Menghapus '95'\n"
          ]
        }
      ]
    },
    {
      "cell_type": "code",
      "source": [
        "from collections import deque\n",
        "\n",
        "class BrowserHistory:\n",
        "    def __init__(self):\n",
        "      self.history = deque()\n",
        "\n",
        "    def visit(self,url):\n",
        "      self.history.append(url)\n",
        "      print(f\"mengunjungi: {url}\")\n",
        "\n",
        "    def back(self):\n",
        "      if self.history:\n",
        "        print(f\"kembali ke: {self.history.pop()}\")\n",
        "      else:\n",
        "        print(\"tidak ada riwayat\")\n",
        "\n",
        "#contoh penggunaan\n",
        "browser = BrowserHistory()\n",
        "browser.visit(\"google.com\")\n",
        "browser.visit(\"youtube.com\")\n",
        "browser.visit(\"github.com\")\n",
        "\n",
        "browser.back()\n",
        "browser.back()"
      ],
      "metadata": {
        "colab": {
          "base_uri": "https://localhost:8080/"
        },
        "id": "g6gEt6n17rif",
        "outputId": "0671f4af-0eb9-444d-a395-530af1765b56"
      },
      "execution_count": null,
      "outputs": [
        {
          "output_type": "stream",
          "name": "stdout",
          "text": [
            "mengunjungi: google.com\n",
            "mengunjungi: youtube.com\n",
            "mengunjungi: github.com\n",
            "kembali ke: github.com\n",
            "kembali ke: youtube.com\n"
          ]
        }
      ]
    },
    {
      "cell_type": "markdown",
      "source": [
        "latihan 2"
      ],
      "metadata": {
        "id": "vK791rImkVpL"
      }
    },
    {
      "cell_type": "code",
      "source": [
        "from collections import deque\n",
        "class NavigasiHistory:\n",
        "  def __init__(self):\n",
        "    self.history = deque()\n",
        "\n",
        "  def visit(self, fitur):\n",
        "    self.history.append(fitur)\n",
        "    print(f\"Berhasil mengakses fitur '{fitur}'\")\n",
        "\n",
        "  def back(self):\n",
        "    if self.history:\n",
        "      print(f\"Berhasil kembali ke fitur '{self.history.pop()}'\")\n",
        "    else:\n",
        "      print(\"Tidak ada yang dapat dikembalikan\")\n",
        "\n",
        "mobile = NavigasiHistory()\n",
        "mobile.visit(\"f65\")\n",
        "mobile.visit(\"g65\")\n",
        "mobile.visit(\"h65\")\n",
        "\n",
        "mobile.back()\n",
        "mobile.back()"
      ],
      "metadata": {
        "colab": {
          "base_uri": "https://localhost:8080/"
        },
        "id": "8XmVhsxqkXQf",
        "outputId": "d593e172-5c43-4386-ab1a-167a1edb7f20"
      },
      "execution_count": 4,
      "outputs": [
        {
          "output_type": "stream",
          "name": "stdout",
          "text": [
            "Berhasil mengakses fitur 'f65'\n",
            "Berhasil mengakses fitur 'g65'\n",
            "Berhasil mengakses fitur 'h65'\n",
            "Berhasil kembali ke fitur 'h65'\n",
            "Berhasil kembali ke fitur 'g65'\n"
          ]
        }
      ]
    },
    {
      "source": [
        "from queue import LifoQueue\n",
        "\n",
        "class backupsystem:\n",
        "    def __init__(self):\n",
        "      self.backups = LifoQueue() # Changed attribute name to backups\n",
        "\n",
        "    def backup(self, version):\n",
        "      self.backups.put(version) # Use the backups attribute to call put()\n",
        "\n",
        "    def latest_backup(self):\n",
        "      if not self.backups.empty():\n",
        "        return f\"versi terbaru: {self.backups.queue[-1]}\"  # Access the queue using [-1]\n",
        "      return \"tidak ada cadangan\"\n",
        "\n",
        "#contoh penggunaan\n",
        "backup = backupsystem()\n",
        "backup.backup(\"backup_1\")\n",
        "backup.backup(\"backup_2\")\n",
        "backup.backup(\"backup_3\")\n",
        "\n",
        "print(backup.latest_backup())"
      ],
      "cell_type": "code",
      "metadata": {
        "colab": {
          "base_uri": "https://localhost:8080/"
        },
        "id": "bVx5J64vAcr4",
        "outputId": "9629549c-69e6-401f-ab02-f5a8e885ba90"
      },
      "execution_count": null,
      "outputs": [
        {
          "output_type": "stream",
          "name": "stdout",
          "text": [
            "versi terbaru: backup_3\n"
          ]
        }
      ]
    },
    {
      "cell_type": "markdown",
      "source": [
        "latihan 3"
      ],
      "metadata": {
        "id": "zx7nSI6Pl2zY"
      }
    },
    {
      "cell_type": "code",
      "source": [
        "from queue import LifoQueue\n",
        "\n",
        "class DraftEmail:\n",
        "  def __init__(self):\n",
        "    self.draft_queue = LifoQueue()\n",
        "\n",
        "  def draft(self, version):\n",
        "    self.draft_queue.put(version)\n",
        "\n",
        "  def latest_draft(self):\n",
        "    if not self.draft_queue.empty():\n",
        "      return f\"Draft Email Terbaru: {self.draft_queue.queue[-1]}\"\n",
        "    return \"Tidak ada yang di draft.\"\n",
        "\n",
        "email = DraftEmail()\n",
        "email.draft(\"i65\")\n",
        "email.draft(\"n65\")\n",
        "email.draft(\"e65\")\n",
        "\n",
        "print(email.latest_draft())"
      ],
      "metadata": {
        "colab": {
          "base_uri": "https://localhost:8080/"
        },
        "id": "btnGUGa-l4Jt",
        "outputId": "7e6e134c-edd1-4ca5-992c-d94228085ecb"
      },
      "execution_count": 7,
      "outputs": [
        {
          "output_type": "stream",
          "name": "stdout",
          "text": [
            "Draft Email Terbaru: e65\n"
          ]
        }
      ]
    },
    {
      "cell_type": "code",
      "source": [
        "class customerservice:\n",
        "  def __init__(self):\n",
        "    self.tickets = []\n",
        "\n",
        "  def add_ticket(self, ticket):\n",
        "    self.tickets.append(ticket)\n",
        "\n",
        "  def process_ticket(self):\n",
        "    if not self.is_empty():\n",
        "      return f\"memproses tiket: {self.tickets.pop()}\"\n",
        "    return \"tidak ada tiket yang harus diproses\"\n",
        "\n",
        "  def is_empty(self):\n",
        "    return len(self.tickets) == 0\n",
        "\n",
        "#contoh penggunaan\n",
        "service = customerservice()\n",
        "service.add_ticket(\"tiket 1\")\n",
        "service.add_ticket(\"tiket 2\")\n",
        "\n",
        "print(service.process_ticket())\n",
        "print(service.is_empty())"
      ],
      "metadata": {
        "colab": {
          "base_uri": "https://localhost:8080/"
        },
        "id": "fW7XvEDGBc_I",
        "outputId": "db69a776-5257-4f98-dd02-592d79d840bd"
      },
      "execution_count": null,
      "outputs": [
        {
          "output_type": "stream",
          "name": "stdout",
          "text": [
            "memproses tiket: tiket 2\n",
            "False\n"
          ]
        }
      ]
    },
    {
      "cell_type": "markdown",
      "source": [
        "latihan 4"
      ],
      "metadata": {
        "id": "PjEiokfmmVNi"
      }
    },
    {
      "cell_type": "code",
      "source": [
        "class CS:\n",
        "  def __init__(self):\n",
        "    self.ticket = []\n",
        "\n",
        "  def add_ticket(self, ticket):\n",
        "    self.ticket.append(ticket)\n",
        "\n",
        "  def process_ticket(self):\n",
        "    if not self.is_empty():\n",
        "      return f\"Memproses tiket: {self.ticket.pop(0)}\"\n",
        "    return \"Tidak ada yang dapat diproses\"\n",
        "\n",
        "  def is_empty(self):\n",
        "    return len(self.ticket) == 0\n",
        "\n",
        "service = CS()\n",
        "service.add_ticket(\"Tiket Film F65\")\n",
        "service.add_ticket(\"Tiket Film E65\")\n",
        "service.add_ticket(\"Tiket Film B65\")\n",
        "\n",
        "print(service.process_ticket())\n",
        "print(service.is_empty())"
      ],
      "metadata": {
        "colab": {
          "base_uri": "https://localhost:8080/"
        },
        "id": "dwc4WwIfmWsB",
        "outputId": "ab895da0-860c-4dc9-b5e8-4cb322de084e"
      },
      "execution_count": 8,
      "outputs": [
        {
          "output_type": "stream",
          "name": "stdout",
          "text": [
            "Memproses tiket: Tiket Film F65\n",
            "False\n"
          ]
        }
      ]
    },
    {
      "cell_type": "markdown",
      "source": [
        "tugas"
      ],
      "metadata": {
        "id": "rlrkzWVNmqZ9"
      }
    },
    {
      "cell_type": "code",
      "source": [
        "class Stack:\n",
        "    def __init__(self, max_size):\n",
        "        self.stack = []\n",
        "        self.max_size = max_size\n",
        "\n",
        "    def push(self, item):\n",
        "        if len(self.stack) < self.max_size:\n",
        "            self.stack.append(item)\n",
        "            print(f\"Barang '{item}' telah ditambahkan ke gudang.\")\n",
        "        else:\n",
        "            print(\"Gudang penuh! Tidak bisa menambahkan barang lagi.\")\n",
        "\n",
        "    def pop(self):\n",
        "        if len(self.stack) > 0:\n",
        "            item = self.stack.pop()\n",
        "            print(f\"Barang '{item}' telah diambil dari gudang.\")\n",
        "        else:\n",
        "            print(\"Gudang kosong! Tidak ada barang yang bisa diambil.\")\n",
        "\n",
        "    def display(self):\n",
        "        if len(self.stack) > 0:\n",
        "            print(\"Barang dalam gudang:\", self.stack)\n",
        "        else:\n",
        "            print(\"Gudang kosong.\")\n",
        "\n",
        "npm = \"65\"\n",
        "max_size = int(65)\n",
        "\n",
        "gudang = Stack(max_size)\n",
        "\n",
        "while True:\n",
        "    print(\"\\n1. Tambah Barang\")\n",
        "    print(\"2. Ambil Barang\")\n",
        "    print(\"3. Lihat Barang dalam Gudang\")\n",
        "    print(\"4. Keluar\")\n",
        "    choice = input(\"Pilih operasi: \")\n",
        "\n",
        "    if choice == '1':\n",
        "        item = input(\"Masukkan nama barang: \")\n",
        "        gudang.push(item)\n",
        "    elif choice == '2':\n",
        "        gudang.pop()\n",
        "    elif choice == '3':\n",
        "        gudang.display()\n",
        "    elif choice == '4':\n",
        "        break\n",
        "    else:\n",
        "        print(\"Pilihan tidak valid. Silakan coba lagi.\")"
      ],
      "metadata": {
        "colab": {
          "base_uri": "https://localhost:8080/"
        },
        "id": "qZ2TJdQDmrpi",
        "outputId": "9c1654ad-3653-45bc-91fe-02d5c1e18ee3"
      },
      "execution_count": 17,
      "outputs": [
        {
          "name": "stdout",
          "output_type": "stream",
          "text": [
            "\n",
            "1. Tambah Barang\n",
            "2. Ambil Barang\n",
            "3. Lihat Barang dalam Gudang\n",
            "4. Keluar\n",
            "Pilih operasi: 1\n",
            "Masukkan nama barang: pulpen\n",
            "Barang 'pulpen' telah ditambahkan ke gudang.\n",
            "\n",
            "1. Tambah Barang\n",
            "2. Ambil Barang\n",
            "3. Lihat Barang dalam Gudang\n",
            "4. Keluar\n",
            "Pilih operasi: 1\n",
            "Masukkan nama barang: bolpoin\n",
            "Barang 'bolpoin' telah ditambahkan ke gudang.\n",
            "\n",
            "1. Tambah Barang\n",
            "2. Ambil Barang\n",
            "3. Lihat Barang dalam Gudang\n",
            "4. Keluar\n",
            "Pilih operasi: 3\n",
            "Barang dalam gudang: ['pulpen', 'bolpoin']\n",
            "\n",
            "1. Tambah Barang\n",
            "2. Ambil Barang\n",
            "3. Lihat Barang dalam Gudang\n",
            "4. Keluar\n",
            "Pilih operasi: 2\n",
            "Barang 'bolpoin' telah diambil dari gudang.\n",
            "\n",
            "1. Tambah Barang\n",
            "2. Ambil Barang\n",
            "3. Lihat Barang dalam Gudang\n",
            "4. Keluar\n",
            "Pilih operasi: 4\n"
          ]
        }
      ]
    }
  ]
}