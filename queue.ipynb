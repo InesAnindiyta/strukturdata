{
  "nbformat": 4,
  "nbformat_minor": 0,
  "metadata": {
    "colab": {
      "provenance": [],
      "authorship_tag": "ABX9TyPQKyqRZT2MnRj6CvS9YxAm",
      "include_colab_link": true
    },
    "kernelspec": {
      "name": "python3",
      "display_name": "Python 3"
    },
    "language_info": {
      "name": "python"
    }
  },
  "cells": [
    {
      "cell_type": "markdown",
      "metadata": {
        "id": "view-in-github",
        "colab_type": "text"
      },
      "source": [
        "<a href=\"https://colab.research.google.com/github/InesAnindiyta/strukturdata/blob/main/queue.ipynb\" target=\"_parent\"><img src=\"https://colab.research.google.com/assets/colab-badge.svg\" alt=\"Open In Colab\"/></a>"
      ]
    },
    {
      "cell_type": "code",
      "source": [
        "class QueueList:\n",
        "  def __init__(self):\n",
        "    self.items = []\n",
        "  def enqueue(self, item):\n",
        "    self.items.append(item)\n",
        "  def dequeue(self):\n",
        "    if not self.is_empty():\n",
        "      return self.items.pop(0)\n",
        "    return None\n",
        "  def front(self):\n",
        "    return self.items[0] if not self.is_empty() else None\n",
        "  def rear(self):\n",
        "    return self.items[-1] if not self.is_empty() else None\n",
        "  def is_empty(self):\n",
        "    return len(self.items) == 0\n",
        "  def size(self):\n",
        "    return len(self.items)\n",
        "queue = QueueList()\n",
        "queue.enqueue(10)\n",
        "queue.enqueue(20)\n",
        "queue.enqueue(30)\n",
        "print(\"Queue setelah enqueue:\", queue.items)\n",
        "print(\"Dequeued element:\", queue.dequeue())\n",
        "print(\"Front element:\", queue.front())\n",
        "print(\"Rear element:\", queue.rear())\n",
        "print(\"Queue size:\", queue.size())"
      ],
      "metadata": {
        "colab": {
          "base_uri": "https://localhost:8080/"
        },
        "id": "NzQfcjsQKSTk",
        "outputId": "5ce169d8-f73a-4203-899c-97821c5f9c16"
      },
      "execution_count": null,
      "outputs": [
        {
          "output_type": "stream",
          "name": "stdout",
          "text": [
            "Queue setelah enqueue: [10, 20, 30]\n",
            "Dequeued element: 10\n",
            "Front element: 20\n",
            "Rear element: 30\n",
            "Queue size: 2\n"
          ]
        }
      ]
    },
    {
      "cell_type": "code",
      "source": [
        "from collections import deque\n",
        "class QueueDeque:\n",
        "  def __init__(self):\n",
        "    self.queue = deque()\n",
        "  def enqueue(self, item):\n",
        "    self.queue.append(item)\n",
        "  def dequeue(self):\n",
        "    return self.queue.popleft() if not self.is_empty() else None\n",
        "  def front(self):\n",
        "    return self.queue[0] if not self.is_empty() else None\n",
        "  def rear(self):\n",
        "    return self.queue[-1] if not self.is_empty() else None\n",
        "  def is_empty(self):\n",
        "    return len(self.queue) == 0\n",
        "  def size(self):\n",
        "    return len(self.queue)\n",
        "\n",
        "queue = QueueDeque()\n",
        "queue.enqueue(10)\n",
        "queue.enqueue(20)\n",
        "queue.enqueue(30)\n",
        "print(\"Queue setelah enqueue:\", list(queue.queue))\n",
        "print(\"Dequeued element:\", queue.dequeue())\n",
        "print(\"Front element:\", queue.front())\n",
        "print(\"Rear element:\", queue.rear())\n",
        "print(\"Queue size:\", queue.size())"
      ],
      "metadata": {
        "colab": {
          "base_uri": "https://localhost:8080/"
        },
        "id": "NxMbILYVLIJM",
        "outputId": "edce415a-1fae-444e-b45f-4a15b9d7621f"
      },
      "execution_count": null,
      "outputs": [
        {
          "output_type": "stream",
          "name": "stdout",
          "text": [
            "Queue setelah enqueue: [10, 20, 30]\n",
            "Dequeued element: 10\n",
            "Front element: 20\n",
            "Rear element: 30\n",
            "Queue size: 2\n"
          ]
        }
      ]
    },
    {
      "cell_type": "code",
      "source": [
        "class Node:\n",
        "  def __init__(self, data):\n",
        "    self.data = data\n",
        "    self.next = None\n",
        "\n",
        "class QueueLinkedList:\n",
        "  def __init__(self):\n",
        "    self.front = self.rear = None\n",
        "  def enqueue(self, data):\n",
        "    new_node = Node(data)\n",
        "    if self.rear is None:\n",
        "      self.front = self.rear = new_node\n",
        "      return\n",
        "    self.rear.next = new_node\n",
        "    self.rear = new_node\n",
        "  def dequeue(self):\n",
        "    if self.front is None:\n",
        "      return None\n",
        "    dequeued_element = self.front.data\n",
        "    self.front = self.front.next\n",
        "    if self.front is None:\n",
        "      self.rear = None\n",
        "    return dequeued_element\n",
        "  def is_empty(self):\n",
        "    return self.front is None\n",
        "  def front_element(self):\n",
        "    return self.front.data if self.front else None\n",
        "  def rear_element(self):\n",
        "    return self.rear.data if self.rear else None\n",
        "\n",
        "queue = QueueLinkedList()\n",
        "queue.enqueue(10)\n",
        "queue.enqueue(20)\n",
        "queue.enqueue(30)\n",
        "print(\"Dequeued element:\", queue.dequeue())\n",
        "print(\"Front element:\", queue.front_element())\n",
        "print(\"Rear element:\", queue.rear())"
      ],
      "metadata": {
        "colab": {
          "base_uri": "https://localhost:8080/"
        },
        "id": "3Lo5b-xsNH2L",
        "outputId": "ea8b6a20-05b6-46d5-bc3a-60ac14d33525"
      },
      "execution_count": null,
      "outputs": [
        {
          "output_type": "stream",
          "name": "stdout",
          "text": [
            "Dequeued element: 10\n",
            "Front element: 20\n",
            "Rear element: 30\n"
          ]
        }
      ]
    },
    {
      "cell_type": "markdown",
      "source": [
        "latihan 1"
      ],
      "metadata": {
        "id": "uxD61rPgMKBT"
      }
    },
    {
      "cell_type": "code",
      "source": [
        "class QueueList:\n",
        "  def __init__(self, capacity=10):\n",
        "    self.queue = []\n",
        "    self.capacity = capacity\n",
        "\n",
        "  def enqueue(self, ticket_id):\n",
        "    if len(self.queue) >=self.capacity:\n",
        "      print(f\"antrian sudah penuh! pelanggan {ticket_id} harus menunggu\")\n",
        "      return\n",
        "      if '7' in ticket_id:\n",
        "        print(f\"VIP customer {ticket_id} langsung mendapatkan kursi.\")\n",
        "    self.queue.append(ticket_id)\n",
        "    print(f\"customer {ticket_id} masuk antrian.\")\n",
        "\n",
        "  def dequeue(self):\n",
        "    if not self.is_empty():\n",
        "      return self.queue.pop(0)\n",
        "    return None\n",
        "\n",
        "  def front(self):\n",
        "    if not self.is_empty():\n",
        "      return self.queue[0]\n",
        "    return None\n",
        "\n",
        "  def rear(self):\n",
        "    if not self.is_empty():\n",
        "      return self.queue[-1]\n",
        "    return None\n",
        "\n",
        "  def is_empty(self):\n",
        "    return len(self.queue) == 0\n",
        "\n",
        "  def size(self):\n",
        "    return len(self.queue)\n",
        "\n",
        "  def display(self):\n",
        "    print(\"Isi antrian:\", self.queue)\n",
        "\n",
        "queue = QueueList()\n",
        "queue.enqueue(\"IN65\")\n",
        "queue.enqueue(\"IN66\")\n",
        "queue.enqueue(\"IN67\")\n",
        "queue.enqueue(\"IN68\")\n",
        "queue.enqueue(\"IN69\")\n",
        "\n",
        "queue.display()\n",
        "\n",
        "print(\"Front queue:\", queue.front())\n",
        "print(\"Rear queue:\", queue.rear())\n",
        "print(\"Size queue:\", queue.size())\n",
        "print(\"Dequeue:\", queue.dequeue())\n",
        "\n",
        "queue.display()"
      ],
      "metadata": {
        "colab": {
          "base_uri": "https://localhost:8080/"
        },
        "outputId": "3efd1c86-0234-4c21-ba53-e91012c4a374",
        "id": "UqTisvpeAWxF"
      },
      "execution_count": 4,
      "outputs": [
        {
          "output_type": "stream",
          "name": "stdout",
          "text": [
            "customer IN65 masuk antrian.\n",
            "customer IN66 masuk antrian.\n",
            "customer IN67 masuk antrian.\n",
            "customer IN68 masuk antrian.\n",
            "customer IN69 masuk antrian.\n",
            "Isi antrian: ['IN65', 'IN66', 'IN67', 'IN68', 'IN69']\n",
            "Front queue: IN65\n",
            "Rear queue: IN69\n",
            "Size queue: 5\n",
            "Dequeue: IN65\n",
            "Isi antrian: ['IN66', 'IN67', 'IN68', 'IN69']\n"
          ]
        }
      ]
    },
    {
      "cell_type": "markdown",
      "source": [
        "latihan 2"
      ],
      "metadata": {
        "id": "AMxYRIwW8x2p"
      }
    },
    {
      "cell_type": "code",
      "source": [
        "class QueueFotokopi:\n",
        "  def __init__(self):\n",
        "    self.queue = []\n",
        "\n",
        "  def enqueue(self, order_id, num_pages):\n",
        "    if num_pages < 10:\n",
        "      print(f\"pesanan {order_id} dengan {num_pages} halaman segera diproses (fast track).\")\n",
        "      return\n",
        "    if num_pages >= 100:\n",
        "      self.queue.append((order_id, 100))\n",
        "      self.queue.append((order_id, num_pages - 100))\n",
        "      print(f\"pesanan {order_id} dengan {num_pages} halaman menjadi dua tahap.\")\n",
        "    else:\n",
        "      self.queue.append((order_id, num_pages))\n",
        "      print(f\"pesanan {order_id} dengan {num_pages} halaman masuk antrian.\")\n",
        "\n",
        "  def dequeue(self):\n",
        "    if not self.is_empty():\n",
        "      return self.queue.pop(0)\n",
        "    print(\"antrian kosong\")\n",
        "    return None\n",
        "\n",
        "  def front(self):\n",
        "    return self.queue[0] if not self.is_empty() else None\n",
        "  def rear(self):\n",
        "    return self.queue[-1] if not self.is_empty() else None\n",
        "  def is_empty(self):\n",
        "    return len(self.queue) == 0\n",
        "  def size(self):\n",
        "    return len(self.queue)\n",
        "  def display(self):\n",
        "    print(\"antrian saat ini:\", self.queue)\n",
        "\n",
        "queue = QueueFotokopi()\n",
        "queue.enqueue(\"IN65\", 4)\n",
        "queue.enqueue(\"IN66\", 50)\n",
        "queue.enqueue(\"IN67\", 8)\n",
        "queue.enqueue(\"IN68\", 120)\n",
        "\n",
        "queue.display()\n",
        "\n",
        "print(\"front queue:\", queue.front())\n",
        "print(\"rear queue:\", queue.rear())\n",
        "print(\"size queue:\", queue.size())\n",
        "print(\"dequeue:\", queue.dequeue())\n",
        "\n",
        "queue.display()"
      ],
      "metadata": {
        "colab": {
          "base_uri": "https://localhost:8080/"
        },
        "id": "0NJeacF_8zuX",
        "outputId": "2aa1f75c-3f47-4990-9a00-90ec6f096084"
      },
      "execution_count": 3,
      "outputs": [
        {
          "output_type": "stream",
          "name": "stdout",
          "text": [
            "pesanan IN65 dengan 4 halaman segera diproses (fast track).\n",
            "pesanan IN66 dengan 50 halaman masuk antrian.\n",
            "pesanan IN67 dengan 8 halaman segera diproses (fast track).\n",
            "pesanan IN68 dengan 120 halaman menjadi dua tahap.\n",
            "antrian saat ini: [('IN66', 50), ('IN68', 100), ('IN68', 20)]\n",
            "front queue: ('IN66', 50)\n",
            "rear queue: ('IN68', 20)\n",
            "size queue: 3\n",
            "dequeue: ('IN66', 50)\n",
            "antrian saat ini: [('IN68', 100), ('IN68', 20)]\n"
          ]
        }
      ]
    },
    {
      "cell_type": "markdown",
      "source": [
        "latihan 3"
      ],
      "metadata": {
        "id": "XxzkYzcz_7tX"
      }
    },
    {
      "cell_type": "code",
      "source": [
        "class QueueParkir:\n",
        "  def __init__(self, kapasitas=15):\n",
        "    self.queue = []\n",
        "    self.kapasitas = kapasitas\n",
        "    self.prioritas = []\n",
        "\n",
        "  def enqueue(self, vehicle_number, is_eco_friendly=False):\n",
        "    if is_eco_friendly:\n",
        "      self.prioritas.append(vehicle_number)\n",
        "      print(f\"kendaraan {vehicle_number} masuk antrian prioritas.\")\n",
        "    else:\n",
        "      if self.size() < self.kapasitas:\n",
        "        self.queue.append(vehicle_number)\n",
        "        print(f\"kendaraan {vehicle_number} masuk antrian.\")\n",
        "      else:\n",
        "        print(f\"parkiran penuh! kendaraan {vehicle_number} harus menunggu.\")\n",
        "\n",
        "  def dequeue(self):\n",
        "    if self.prioritas:\n",
        "      return self.prioritas.pop(0)\n",
        "    if not self.is_empty():\n",
        "      return self.queue.pop(0)\n",
        "    print(\"parkiran kosong\")\n",
        "    return None\n",
        "\n",
        "  def front(self):\n",
        "    return self.prioritas[0] if self.prioritas else (self.queue[0] if not self.is_empty() else None)\n",
        "\n",
        "  def rear(self):\n",
        "    return self.prioritas[-1] if self.prioritas else (self.queue[-1] if not self.is_empty() else None)\n",
        "\n",
        "  def is_empty(self):\n",
        "    return len(self.queue) == 0 and len(self.prioritas) == 0\n",
        "\n",
        "  def size(self):\n",
        "    return len(self.queue) + len(self.prioritas)\n",
        "\n",
        "  def display(self):\n",
        "    print(\"antrian prioritas: {self.prioritas}\")\n",
        "    print(\"antrian bukan prioritas: {self.queue}\")\n",
        "\n",
        "queue = QueueParkir()\n",
        "queue.enqueue(\"MA65\", True)\n",
        "queue.enqueue(\"MA66\", False)\n",
        "queue.enqueue(\"MA67\", True)\n",
        "queue.enqueue(\"MA68\", False)\n",
        "\n",
        "queue.display()\n",
        "\n",
        "print(\"front queue:\", queue.front())\n",
        "print(\"rear queue:\", queue.rear())\n",
        "print(\"size queue:\", queue.size())\n",
        "print(\"dequeue:\", queue.dequeue())\n",
        "\n",
        "queue.display()"
      ],
      "metadata": {
        "colab": {
          "base_uri": "https://localhost:8080/"
        },
        "id": "sT0muKhL_9bd",
        "outputId": "82e097de-27de-457f-f7b1-e4dcd6f1586f"
      },
      "execution_count": 7,
      "outputs": [
        {
          "output_type": "stream",
          "name": "stdout",
          "text": [
            "kendaraan MA65 masuk antrian prioritas.\n",
            "kendaraan MA66 masuk antrian.\n",
            "kendaraan MA67 masuk antrian prioritas.\n",
            "kendaraan MA68 masuk antrian.\n",
            "antrian prioritas: {self.prioritas}\n",
            "antrian bukan prioritas: {self.queue}\n",
            "front queue: MA65\n",
            "rear queue: MA67\n",
            "size queue: 4\n",
            "dequeue: MA65\n",
            "antrian prioritas: {self.prioritas}\n",
            "antrian bukan prioritas: {self.queue}\n"
          ]
        }
      ]
    },
    {
      "cell_type": "markdown",
      "source": [
        "latihan 4"
      ],
      "metadata": {
        "id": "Hz_NwJ88E2SM"
      }
    },
    {
      "cell_type": "code",
      "source": [
        "class QueueSertifikat:\n",
        "  def __init__(self, kapasitas=20):\n",
        "    self.queue = []\n",
        "    self.kapasitas = kapasitas\n",
        "    self.jalur_prestasi = []\n",
        "\n",
        "  def enqueue(self, student_id, prestasi=False):\n",
        "    if prestasi:\n",
        "      self.jalur_prestasi.append(student_id)\n",
        "      print(f\"mahasiswa {student_id} masuk jalur prestasi.\")\n",
        "    else:\n",
        "      if self.size() < self.kapasitas:\n",
        "        self.queue.append(student_id)\n",
        "        print(f\"mahasiswa {student_id} masuk antrian reguler.\")\n",
        "      else:\n",
        "        print(f\"antrian penuhh! mahasiswa {student_id} harus menunggu.\")\n",
        "\n",
        "  def dequeue(self):\n",
        "    if self.jalur_prestasi:\n",
        "      return self.jalur_prestasi.pop(0)\n",
        "    if not self.is_empty():\n",
        "      return self.queue.pop(0)\n",
        "    print(\"antrian kosong\")\n",
        "    return None\n",
        "\n",
        "  def front(self):\n",
        "    return self.jalur_prestasi[0] if self.jalur_prestasi else (self.queue[0] if not self.is_empty() else None)\n",
        "\n",
        "  def rear(self):\n",
        "    return self.jalur_prestasi[-1] if self.jalur_prestasi else (self.queue[-1] if not self.is_empty() else None)\n",
        "\n",
        "  def is_empty(self):\n",
        "    return len(self.queue) == 0 and len(self.jalur_prestasi) == 0\n",
        "\n",
        "  def size(self):\n",
        "    return len(self.queue) + len(self.jalur_prestasi)\n",
        "\n",
        "  def display(self):\n",
        "    print(\"antrian jalur prestasi:\", self.jalur_prestasi)\n",
        "    print(\"antrian reguler:\", self.queue)\n",
        "\n",
        "queue = QueueSertifikat()\n",
        "queue.enqueue(\"T65\", True)\n",
        "queue.enqueue(\"T66\", False)\n",
        "queue.enqueue(\"T67\", True)\n",
        "queue.enqueue(\"T68\", False)\n",
        "\n",
        "queue.display()\n",
        "\n",
        "print(\"front queue:\", queue.front())\n",
        "print(\"rear queue:\", queue.rear())\n",
        "print(\"size queue:\", queue.size())\n",
        "print(\"dequeue:\", queue.dequeue())\n",
        "\n",
        "queue.display()"
      ],
      "metadata": {
        "colab": {
          "base_uri": "https://localhost:8080/"
        },
        "id": "lw5xEdxwE4vt",
        "outputId": "94e516c6-0757-4092-f186-3540e6542992"
      },
      "execution_count": 6,
      "outputs": [
        {
          "output_type": "stream",
          "name": "stdout",
          "text": [
            "mahasiswa T65 masuk jalur prestasi.\n",
            "mahasiswa T66 masuk antrian reguler.\n",
            "mahasiswa T67 masuk jalur prestasi.\n",
            "mahasiswa T68 masuk antrian reguler.\n",
            "antrian jalur prestasi: ['T65', 'T67']\n",
            "antrian reguler: ['T66', 'T68']\n",
            "front queue: T65\n",
            "rear queue: T67\n",
            "size queue: 4\n",
            "dequeue: T65\n",
            "antrian jalur prestasi: ['T67']\n",
            "antrian reguler: ['T66', 'T68']\n"
          ]
        }
      ]
    }
  ]
}