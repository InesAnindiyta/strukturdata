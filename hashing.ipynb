{
  "nbformat": 4,
  "nbformat_minor": 0,
  "metadata": {
    "colab": {
      "provenance": [],
      "authorship_tag": "ABX9TyPi8kj0oUMAPEHXZbhi/b0W",
      "include_colab_link": true
    },
    "kernelspec": {
      "name": "python3",
      "display_name": "Python 3"
    },
    "language_info": {
      "name": "python"
    }
  },
  "cells": [
    {
      "cell_type": "markdown",
      "metadata": {
        "id": "view-in-github",
        "colab_type": "text"
      },
      "source": [
        "<a href=\"https://colab.research.google.com/github/InesAnindiyta/strukturdata/blob/main/hashing.ipynb\" target=\"_parent\"><img src=\"https://colab.research.google.com/assets/colab-badge.svg\" alt=\"Open In Colab\"/></a>"
      ]
    },
    {
      "cell_type": "markdown",
      "source": [
        "implementasi hash table sederhana"
      ],
      "metadata": {
        "id": "K0kLEjHwjO5w"
      }
    },
    {
      "cell_type": "code",
      "source": [
        "class SimpleHashTable:\n",
        "    def __init__(self, size):\n",
        "        self.size = size\n",
        "        self.table = [None] * size\n",
        "\n",
        "    def hash_function(self, key):\n",
        "        return hash(key) % self.size\n",
        "\n",
        "    def insert(self, key, value):\n",
        "        index = self.hash_function(key)\n",
        "        self.table[index] = value\n",
        "\n",
        "    def search(self, key):\n",
        "        index = self.hash_function(key)\n",
        "        return self.table[index]\n",
        "\n",
        "#contoh penguunaan\n",
        "ht = SimpleHashTable(10)\n",
        "ht.insert(\"apel\", 100)\n",
        "ht.insert(\"pisang\", 200)\n",
        "\n",
        "print(\"nilai untuk 'apel':\", ht.search(\"apel\"))\n",
        "print(\"nilai untuk 'pisang':\", ht.search(\"pisang\"))"
      ],
      "metadata": {
        "colab": {
          "base_uri": "https://localhost:8080/"
        },
        "id": "D0y5trfCnyQH",
        "outputId": "cfbfcf41-6b95-4a0a-e49a-97ff3f2be77d"
      },
      "execution_count": null,
      "outputs": [
        {
          "output_type": "stream",
          "name": "stdout",
          "text": [
            "nilai untuk 'apel': 100\n",
            "nilai untuk 'pisang': 200\n"
          ]
        }
      ]
    },
    {
      "cell_type": "markdown",
      "source": [
        "penanganan collision dengan linier probing"
      ],
      "metadata": {
        "id": "yG824fPDo4VW"
      }
    },
    {
      "cell_type": "code",
      "source": [
        "class LinearProbingHashTable:\n",
        "    def __init__(self, size):\n",
        "        self.size = size\n",
        "        self.table = [None] * size\n",
        "\n",
        "    def hash_function(self, key):\n",
        "        return hash(key) % self.size\n",
        "\n",
        "    def insert(self, key, value):\n",
        "        index = self.hash_function(key)\n",
        "        original_index = index\n",
        "\n",
        "        while self.table[index] is not None:\n",
        "            if self.table[index][0] == key:\n",
        "                break\n",
        "            index = (index + 1) % self.size\n",
        "            if index == original_index:\n",
        "                raise Exception(\"hash tabel penuh\")\n",
        "\n",
        "        self.table[index] = (key, value)\n",
        "\n",
        "    def search(self, key):\n",
        "        index = self.hash_function(key)\n",
        "        original_index = index\n",
        "\n",
        "        while self.table[index] is not None:\n",
        "            if self.table[index][0] == key:\n",
        "                return self.table[index][1]\n",
        "            index = (index + 1) % self.size\n",
        "            if index == original_index:\n",
        "                break\n",
        "        return None\n",
        "\n",
        "#contoh penggunaan\n",
        "ht = LinearProbingHashTable(5)\n",
        "ht.insert(\"apel\", 100)\n",
        "ht.insert(\"pisang\", 200)\n",
        "ht.insert(\"melon\", 300)\n",
        "\n",
        "print(\"nilai untuk 'apel':\", ht.search(\"apel\"))\n",
        "print(\"nilai untuk 'melon':\", ht.search(\"melon\"))"
      ],
      "metadata": {
        "colab": {
          "base_uri": "https://localhost:8080/"
        },
        "id": "1no1dZ6qrN5_",
        "outputId": "daf0d900-dbdb-4d6c-b28b-ac4bd4367a65"
      },
      "execution_count": null,
      "outputs": [
        {
          "output_type": "stream",
          "name": "stdout",
          "text": [
            "nilai untuk 'apel': 100\n",
            "nilai untuk 'melon': 300\n"
          ]
        }
      ]
    },
    {
      "cell_type": "markdown",
      "source": [
        "penanganan collision dengan chaining"
      ],
      "metadata": {
        "id": "98OoAAMctAk-"
      }
    },
    {
      "cell_type": "code",
      "source": [
        "class ChainingHashTable:\n",
        "    def __init__(self, size):\n",
        "        self.size = size\n",
        "        self.table = [[] for _ in range(size)]\n",
        "\n",
        "    def hash_function(self, key):\n",
        "        return hash(key) % self.size\n",
        "\n",
        "    def insert(self, key, value):\n",
        "        index = self.hash_function(key)\n",
        "        for i, (k, v) in enumerate(self.table[index]):\n",
        "            if k == key:\n",
        "                self.table[index][i] = (key, value)\n",
        "                return\n",
        "        self.table[index].append((key, value))\n",
        "\n",
        "    def search(self, key):\n",
        "        index = self.hash_function(key)\n",
        "        for k, v in self.table[index]:\n",
        "            if k == key:\n",
        "                return v\n",
        "        return None\n",
        "\n",
        "#contoh penggunaan\n",
        "ht = ChainingHashTable(5)\n",
        "ht.insert(\"apel\", 100)\n",
        "ht.insert(\"pisang\", 200)\n",
        "ht.insert(\"melon\", 300)\n",
        "\n",
        "print(\"nilai untuk 'apel':\", ht.search(\"apel\"))\n",
        "print(\"nilai untuk 'melon':\", ht.search(\"melon\"))"
      ],
      "metadata": {
        "id": "3IcDnDnuyK9b",
        "outputId": "92cf5960-f02e-4069-d334-aff4906dd28b",
        "colab": {
          "base_uri": "https://localhost:8080/"
        }
      },
      "execution_count": null,
      "outputs": [
        {
          "output_type": "stream",
          "name": "stdout",
          "text": [
            "nilai untuk 'apel': 100\n",
            "nilai untuk 'melon': 300\n"
          ]
        }
      ]
    },
    {
      "cell_type": "markdown",
      "source": [
        "tugas eksperimen sederhana linear probling"
      ],
      "metadata": {
        "id": "fPSdHEwz54Nt"
      }
    },
    {
      "cell_type": "code",
      "source": [
        "class LinearProbingHashTable:\n",
        "    def __init__(self, size):\n",
        "        self.size = size\n",
        "        self.table = [None] * size\n",
        "\n",
        "    def hash_function(self, key):\n",
        "        return sum(ord(char) for char in key) % self.size\n",
        "\n",
        "    def insert(self, key, value):\n",
        "        index = self.hash_function(key)\n",
        "        while self.table[index] is not None:\n",
        "            index = (index + 1) % self.size\n",
        "\n",
        "        self.table[index] = (key, value)\n",
        "\n",
        "    def display_table(self):\n",
        "        print(\"nilai:\")\n",
        "        for i, item in enumerate(self.table):\n",
        "            print(f\" {i}: {item}\")\n",
        "\n",
        "ht = LinearProbingHashTable(5)\n",
        "ht.insert(\"A\", 10)\n",
        "ht.insert(\"B\", 20)\n",
        "ht.insert(\"C\", 30)\n",
        "ht.insert(\"D\", 40)\n",
        "ht.insert(\"E\", 50)\n",
        "\n",
        "ht.display_table()"
      ],
      "metadata": {
        "colab": {
          "base_uri": "https://localhost:8080/"
        },
        "id": "4fGTZok26FPu",
        "outputId": "59e984ee-c151-457f-ab6b-8b1f1d425fd0"
      },
      "execution_count": 7,
      "outputs": [
        {
          "output_type": "stream",
          "name": "stdout",
          "text": [
            "nilai:\n",
            " 0: ('A', 10)\n",
            " 1: ('B', 20)\n",
            " 2: ('C', 30)\n",
            " 3: ('D', 40)\n",
            " 4: ('E', 50)\n"
          ]
        }
      ]
    },
    {
      "cell_type": "markdown",
      "source": [
        "tugas percobaan dasar chaining"
      ],
      "metadata": {
        "id": "mTFusSVS8NKI"
      }
    },
    {
      "cell_type": "code",
      "source": [
        "class ChainingHashTable:\n",
        "    def __init__(self, size):\n",
        "        self.size = size\n",
        "        self.table = [[] for _ in range(size)]\n",
        "\n",
        "    def hash_function(self, key):\n",
        "        return sum(ord(char) for char in key) % self.size\n",
        "\n",
        "    def insert(self, key, value):\n",
        "        index = self.hash_function(key)\n",
        "        self.table[index].append((key, value))\n",
        "\n",
        "    def display_table(self):\n",
        "        print(\"tabel:\")\n",
        "        for i, chain in enumerate(self.table):\n",
        "            print(f\"{i}: \", end=\"\")\n",
        "            for item in chain:\n",
        "                print(f\"{item} -> \", end=\"\")\n",
        "            print(\"None\")\n",
        "\n",
        "ct = ChainingHashTable(3)\n",
        "\n",
        "ct.insert(\"apel\", 100)\n",
        "ct.insert(\"melon\", 200)\n",
        "ct.insert(\"lemon\", 300)\n",
        "ct.insert(\"pisang\", 400)\n",
        "\n",
        "ct.display_table()"
      ],
      "metadata": {
        "colab": {
          "base_uri": "https://localhost:8080/"
        },
        "id": "Dpj9cGAS8Rr4",
        "outputId": "2188e87d-0799-42b8-f746-ab810889eb6d"
      },
      "execution_count": 10,
      "outputs": [
        {
          "output_type": "stream",
          "name": "stdout",
          "text": [
            "tabel:\n",
            "0: ('pisang', 400) -> None\n",
            "1: ('apel', 100) -> None\n",
            "2: ('melon', 200) -> ('lemon', 300) -> None\n"
          ]
        }
      ]
    }
  ]
}