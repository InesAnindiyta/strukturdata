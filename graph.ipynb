{
  "nbformat": 4,
  "nbformat_minor": 0,
  "metadata": {
    "colab": {
      "provenance": [],
      "authorship_tag": "ABX9TyMoLT1TWY531GWLpxyUPpxh",
      "include_colab_link": true
    },
    "kernelspec": {
      "name": "python3",
      "display_name": "Python 3"
    },
    "language_info": {
      "name": "python"
    }
  },
  "cells": [
    {
      "cell_type": "markdown",
      "metadata": {
        "id": "view-in-github",
        "colab_type": "text"
      },
      "source": [
        "<a href=\"https://colab.research.google.com/github/InesAnindiyta/strukturdata/blob/main/graph.ipynb\" target=\"_parent\"><img src=\"https://colab.research.google.com/assets/colab-badge.svg\" alt=\"Open In Colab\"/></a>"
      ]
    },
    {
      "cell_type": "markdown",
      "source": [
        "representasi graf dengan adjacency list"
      ],
      "metadata": {
        "id": "JQbUwrJLgRYO"
      }
    },
    {
      "cell_type": "code",
      "execution_count": null,
      "metadata": {
        "colab": {
          "base_uri": "https://localhost:8080/"
        },
        "id": "RC9AmKisczDk",
        "outputId": "2ed11dac-1502-464f-8247-b4c1f7924d29"
      },
      "outputs": [
        {
          "output_type": "stream",
          "name": "stdout",
          "text": [
            "A -> ['B', 'C']\n",
            "B -> ['D', 'E']\n",
            "C -> ['A', 'F']\n",
            "D -> ['B']\n",
            "E -> ['B', 'F']\n",
            "F -> ['C', 'E']\n"
          ]
        }
      ],
      "source": [
        "# membuat graf tak berarah menggunakan adjacency list\n",
        "graph = {\n",
        "    'A': ['B', 'C'],\n",
        "    'B': ['D', 'E'],\n",
        "    'C': ['A', 'F'],\n",
        "    'D': ['B'],\n",
        "    'E': ['B','F'],\n",
        "    'F': ['C', 'E']\n",
        "}\n",
        "\n",
        "# menampilkan graf\n",
        "def print_graph(graph):\n",
        "    for node in graph:\n",
        "        print(f\"{node} -> {graph[node]}\")\n",
        "\n",
        "print_graph(graph)"
      ]
    },
    {
      "cell_type": "markdown",
      "source": [
        "transversal graf menggunakan BFS"
      ],
      "metadata": {
        "id": "-53eVkskhf2u"
      }
    },
    {
      "cell_type": "code",
      "source": [
        "from collections import deque\n",
        "\n",
        "def bfs(graph, start):\n",
        "    visited = set()\n",
        "    queue = deque([start])\n",
        "\n",
        "    while queue:\n",
        "        vertex = queue.popleft()\n",
        "        if vertex not in visited:\n",
        "            print(vertex, end=\" \")\n",
        "            visited.add(vertex)\n",
        "            queue.extend(neighbor for neighbor in graph[vertex] if neighbor not in visited)\n",
        "\n",
        "#contoh pemanggilan\n",
        "bfs(graph, 'A')"
      ],
      "metadata": {
        "colab": {
          "base_uri": "https://localhost:8080/"
        },
        "id": "szOk4fG3iW29",
        "outputId": "3556665a-b96a-4ea9-9fe4-e75d5d203a75"
      },
      "execution_count": null,
      "outputs": [
        {
          "output_type": "stream",
          "name": "stdout",
          "text": [
            "A B C D E F "
          ]
        }
      ]
    },
    {
      "cell_type": "markdown",
      "source": [
        "transversal graf dengan DFS"
      ],
      "metadata": {
        "id": "TBCdi2fIiqHN"
      }
    },
    {
      "cell_type": "code",
      "source": [
        "def dfs(graph, start, visited=None):\n",
        "    if visited is None:\n",
        "        visited = set()\n",
        "\n",
        "    if start not in visited:\n",
        "        print(start, end=\" \")\n",
        "        visited.add(start)\n",
        "        for neighbor in graph[start]:\n",
        "            dfs(graph, neighbor, visited)\n",
        "\n",
        "#contoh pemanggilan\n",
        "dfs(graph, 'A')"
      ],
      "metadata": {
        "colab": {
          "base_uri": "https://localhost:8080/"
        },
        "id": "0ltXk3xHi_J9",
        "outputId": "85434bec-a286-4f4c-8ba8-56759114b7c0"
      },
      "execution_count": null,
      "outputs": [
        {
          "output_type": "stream",
          "name": "stdout",
          "text": [
            "A B D E F C "
          ]
        }
      ]
    },
    {
      "cell_type": "markdown",
      "source": [
        "latihan personal"
      ],
      "metadata": {
        "id": "IXyOnytu4NAy"
      }
    },
    {
      "cell_type": "code",
      "source": [
        "def count_neighbors(graph):\n",
        "  result = {}\n",
        "  for node in graph:\n",
        "    result[node] = len(graph[node])\n",
        "  return result\n",
        "\n",
        "  print(count_neighbors(graph))"
      ],
      "metadata": {
        "id": "i395K0tE4PBW"
      },
      "execution_count": 2,
      "outputs": []
    },
    {
      "cell_type": "markdown",
      "source": [
        "tugas 1"
      ],
      "metadata": {
        "id": "o0n9bvg34zqb"
      }
    },
    {
      "cell_type": "code",
      "source": [
        "graph = {\n",
        "    'A': ['B', 'C'],\n",
        "    'B': ['A', 'D', 'E'],\n",
        "    'C': ['A', 'F'],\n",
        "    'D': ['B'],\n",
        "    'E': ['B', 'F'],\n",
        "    'F': ['C', 'E']\n",
        "}\n",
        "\n",
        "def print_graph(graph):\n",
        "    for node in graph:\n",
        "        print(node, '=', graph[node])\n",
        "\n",
        "print_graph(graph)"
      ],
      "metadata": {
        "colab": {
          "base_uri": "https://localhost:8080/"
        },
        "id": "2e8rztSs41xO",
        "outputId": "c8a71bcd-4414-4de9-f00c-0d93ec4e55c1"
      },
      "execution_count": 4,
      "outputs": [
        {
          "output_type": "stream",
          "name": "stdout",
          "text": [
            "A = ['B', 'C']\n",
            "B = ['A', 'D', 'E']\n",
            "C = ['A', 'F']\n",
            "D = ['B']\n",
            "E = ['B', 'F']\n",
            "F = ['C', 'E']\n"
          ]
        }
      ]
    },
    {
      "cell_type": "markdown",
      "source": [
        "tugas 2"
      ],
      "metadata": {
        "id": "zntZD7sy5n9w"
      }
    },
    {
      "cell_type": "code",
      "source": [
        "def dfs(graph, start, visited=None):\n",
        "    if visited is None:\n",
        "        visited = set()\n",
        "\n",
        "    if start not in visited:\n",
        "        print(start, end=\" \")\n",
        "        visited.add(start)\n",
        "        for neighbor in graph[start]:\n",
        "            dfs(graph, neighbor, visited)\n",
        "\n",
        "def bfs(graph, start):\n",
        "    from collections import deque\n",
        "    visited = set()\n",
        "    queue = deque([start])\n",
        "    while queue:\n",
        "        vertex = queue.popleft()\n",
        "        if vertex not in visited:\n",
        "            print(vertex, end=\" \")\n",
        "            visited.add(vertex)\n",
        "            queue.extend(neighbor for neighbor in graph[vertex] if neighbor not in visited)"
      ],
      "metadata": {
        "id": "3JSXoOhM5pPo"
      },
      "execution_count": 5,
      "outputs": []
    },
    {
      "cell_type": "markdown",
      "source": [
        "tugas 3"
      ],
      "metadata": {
        "id": "_8hJi_SV6feA"
      }
    },
    {
      "cell_type": "code",
      "source": [
        "def bfs_list(graph, start):\n",
        "    from collections import deque\n",
        "    visited = set()\n",
        "    queue = deque([start])\n",
        "    result = []\n",
        "    while queue:\n",
        "        vertex = queue.popleft()\n",
        "        if vertex not in visited:\n",
        "            result.append(vertex)\n",
        "            visited.add(vertex)\n",
        "            queue.extend(neighbor for neighbor in graph[vertex] if neighbor not in visited)\n",
        "    return result\n",
        "\n",
        "print(bfs_list(graph, 'A'))"
      ],
      "metadata": {
        "colab": {
          "base_uri": "https://localhost:8080/"
        },
        "id": "N3ERWxrn6hE0",
        "outputId": "95eb5fcc-21aa-4a66-f6b4-ef89c9463e79"
      },
      "execution_count": 7,
      "outputs": [
        {
          "output_type": "stream",
          "name": "stdout",
          "text": [
            "['A', 'B', 'C', 'D', 'E', 'F']\n"
          ]
        }
      ]
    },
    {
      "cell_type": "markdown",
      "source": [
        "tugas 4"
      ],
      "metadata": {
        "id": "5L2NQa-B7Gsl"
      }
    },
    {
      "cell_type": "code",
      "source": [
        "def find_path(graph, start, end, path=None):\n",
        "    if path is None:\n",
        "        path = []\n",
        "    path = path + [start]\n",
        "    if start == end:\n",
        "        return path\n",
        "    if start not in graph:\n",
        "        return None\n",
        "    for node in graph[start]:\n",
        "        if node not in path:\n",
        "            newpath = find_path(graph, node, end, path)\n",
        "            if newpath:\n",
        "                return newpath\n",
        "    return None"
      ],
      "metadata": {
        "id": "v1X7Z_W-72_y"
      },
      "execution_count": 10,
      "outputs": []
    },
    {
      "cell_type": "markdown",
      "source": [
        "tugas 5"
      ],
      "metadata": {
        "id": "Nv06PT_q76PR"
      }
    },
    {
      "cell_type": "code",
      "source": [
        "def is_connected(graph):\n",
        "    start = list(graph.keys())[0]\n",
        "    visited = set()\n",
        "    dfs(graph, start, visited)\n",
        "    return len(visited) == len(graph)"
      ],
      "metadata": {
        "id": "V59xyeqz7_Xy"
      },
      "execution_count": 12,
      "outputs": []
    }
  ]
}